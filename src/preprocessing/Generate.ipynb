{
  "cells": [
    {
      "cell_type": "code",
      "execution_count": 1,
      "metadata": {
        "id": "9OEoeosRTv-5",
        "outputId": "c8a0aba5-49c3-49f4-f7bb-7f1dc6752efe",
        "colab": {
          "base_uri": "https://localhost:8080/"
        }
      },
      "outputs": [
        {
          "output_type": "stream",
          "name": "stdout",
          "text": [
            "\u001b[2K     \u001b[90m━━━━━━━━━━━━━━━━━━━━━━━━━━━━━━━━━━━━━━━━\u001b[0m \u001b[32m164.2/164.2 kB\u001b[0m \u001b[31m1.4 MB/s\u001b[0m eta \u001b[36m0:00:00\u001b[0m\n",
            "\u001b[2K     \u001b[90m━━━━━━━━━━━━━━━━━━━━━━━━━━━━━━━━━━━━━━━━\u001b[0m \u001b[32m718.3/718.3 kB\u001b[0m \u001b[31m8.7 MB/s\u001b[0m eta \u001b[36m0:00:00\u001b[0m\n",
            "\u001b[?25h"
          ]
        }
      ],
      "source": [
        "!pip install -q -U google-generativeai"
      ]
    },
    {
      "cell_type": "markdown",
      "metadata": {
        "id": "KCFF5VSTbcAR"
      },
      "source": [
        "### Import packages"
      ]
    },
    {
      "cell_type": "markdown",
      "metadata": {
        "id": "vRC2HngneEeQ"
      },
      "source": [
        "Import the necessary packages."
      ]
    },
    {
      "cell_type": "code",
      "execution_count": 2,
      "metadata": {
        "id": "TS9l5igubpHO"
      },
      "outputs": [],
      "source": [
        "import pathlib\n",
        "import textwrap\n",
        "\n",
        "import google.generativeai as genai\n",
        "\n",
        "from IPython.display import display\n",
        "from IPython.display import Markdown\n",
        "\n",
        "\n",
        "# def to_markdown(text):\n",
        "#   text = text.replace('•', '  *')\n",
        "#   return Markdown(textwrap.indent(text, '> ', predicate=lambda _: True))"
      ]
    },
    {
      "cell_type": "code",
      "execution_count": 5,
      "metadata": {
        "id": "d10c38a5c91f"
      },
      "outputs": [],
      "source": [
        "# Used to securely store your API key\n",
        "from google.colab import userdata"
      ]
    },
    {
      "cell_type": "markdown",
      "metadata": {
        "id": "gHYFrFPjSGNq"
      },
      "source": [
        "### Setup your API key\n",
        "\n",
        "Before you can use the Gemini API, you must first obtain an API key. If you don't already have one, create a key with one click in Google AI Studio.\n",
        "\n",
        "<a class=\"button button-primary\" href=\"https://makersuite.google.com/app/apikey\" target=\"_blank\" rel=\"noopener noreferrer\">Get an API key</a>"
      ]
    },
    {
      "cell_type": "markdown",
      "metadata": {
        "id": "tHhsUxDTdw0W"
      },
      "source": [
        "In Colab, add the key to the secrets manager under the \"🔑\" in the left panel. Give it the name `GOOGLE_API_KEY`."
      ]
    },
    {
      "cell_type": "markdown",
      "metadata": {
        "id": "VmSlTHXxb5pV"
      },
      "source": [
        "Once you have the API key, pass it to the SDK. You can do this in two ways:\n",
        "\n",
        "* Put the key in the `GOOGLE_API_KEY` environment variable (the SDK will automatically pick it up from there).\n",
        "* Pass the key to `genai.configure(api_key=...)`"
      ]
    },
    {
      "cell_type": "code",
      "execution_count": 6,
      "metadata": {
        "id": "ab9ASynfcIZn"
      },
      "outputs": [],
      "source": [
        "# Or use `os.getenv('GOOGLE_API_KEY')` to fetch an environment variable.\n",
        "GOOGLE_API_KEY=userdata.get('GOOGLE_API_KEY')\n",
        "\n",
        "genai.configure(api_key=GOOGLE_API_KEY)"
      ]
    },
    {
      "cell_type": "code",
      "source": [
        "from google.colab import drive\n",
        "drive.mount('/content/drive')"
      ],
      "metadata": {
        "id": "VOpZ_Hrd-dQs",
        "colab": {
          "base_uri": "https://localhost:8080/"
        },
        "outputId": "1063f081-20e3-4822-8b1f-62195880a1c8"
      },
      "execution_count": 7,
      "outputs": [
        {
          "output_type": "stream",
          "name": "stdout",
          "text": [
            "Mounted at /content/drive\n"
          ]
        }
      ]
    },
    {
      "cell_type": "markdown",
      "metadata": {
        "id": "8ssbTMNVSMd-"
      },
      "source": [
        "## List models\n",
        "\n",
        "Now you're ready to call the Gemini API. Use `list_models` to see the available Gemini models:\n",
        "\n",
        "* `gemini-1.5-pro`: optimized for high intelligence tasks, the most powerful Gemini model\n",
        "* `gemini-1.5-flash`: optimized for multi-modal use-cases where speed and cost are important"
      ]
    },
    {
      "cell_type": "code",
      "execution_count": 6,
      "metadata": {
        "id": "QvvWFy08e5c5",
        "outputId": "d472c1c1-cbb1-4a79-c183-c8898a067011",
        "colab": {
          "base_uri": "https://localhost:8080/",
          "height": 225
        }
      },
      "outputs": [
        {
          "output_type": "stream",
          "name": "stdout",
          "text": [
            "models/gemini-1.0-pro\n",
            "models/gemini-1.0-pro-001\n",
            "models/gemini-1.0-pro-latest\n",
            "models/gemini-1.0-pro-vision-latest\n",
            "models/gemini-1.5-flash\n",
            "models/gemini-1.5-flash-001\n",
            "models/gemini-1.5-flash-latest\n",
            "models/gemini-1.5-pro\n",
            "models/gemini-1.5-pro-001\n",
            "models/gemini-1.5-pro-latest\n",
            "models/gemini-pro\n",
            "models/gemini-pro-vision\n"
          ]
        }
      ],
      "source": [
        "for m in genai.list_models():\n",
        "  if 'generateContent' in m.supported_generation_methods:\n",
        "    print(m.name)"
      ]
    },
    {
      "cell_type": "markdown",
      "metadata": {
        "id": "FTl5NjtrhA0J"
      },
      "source": [
        "Note: For detailed information about the available models, including their capabilities and rate limits, see [Gemini models](https://ai.google.dev/models/gemini). There are options for requesting [rate limit increases](https://ai.google.dev/docs/increase_quota). The rate limit for Gemini-Pro models is 60 requests per minute (RPM).\n",
        "\n",
        "The `genai` package also supports the PaLM  family of models, but only the Gemini models support the generic, multimodal capabilities of the `generateContent` method."
      ]
    },
    {
      "cell_type": "markdown",
      "metadata": {
        "id": "LZfoK3I3hu6V"
      },
      "source": [
        "## Generate text from text inputs\n",
        "\n",
        "For text-only prompts, use the `gemini-pro` model:"
      ]
    },
    {
      "cell_type": "markdown",
      "source": [],
      "metadata": {
        "id": "aOnnNJFtR2sY"
      }
    },
    {
      "cell_type": "markdown",
      "metadata": {
        "id": "WR_2A_sxk8sK"
      },
      "source": [
        "The `generate_content` method can handle a wide variety of use cases, including multi-turn chat and multimodal input, depending on what the underlying model supports. The available models only support text and images as input, and text as output.\n",
        "\n",
        "In the simplest case, you can pass a prompt string to the <a href=\"https://ai.google.dev/api/python/google/generativeai/GenerativeModel#generate_content\"><code>GenerativeModel.generate_content</code></a> method:"
      ]
    },
    {
      "cell_type": "markdown",
      "metadata": {
        "id": "FbrR-n_qlpFd"
      },
      "source": [
        "In simple cases, the `response.text` accessor is all you need. To display formatted Markdown text, use the `to_markdown` function:"
      ]
    },
    {
      "cell_type": "code",
      "source": [
        "path_folder = \"/content/drive/MyDrive/FPT/DPL391m/data/processed\""
      ],
      "metadata": {
        "id": "dLrxeNFdNAiH"
      },
      "execution_count": 8,
      "outputs": []
    },
    {
      "cell_type": "code",
      "source": [
        "import os\n",
        "import random"
      ],
      "metadata": {
        "id": "CX6Z0DpZNG7M"
      },
      "execution_count": 9,
      "outputs": []
    },
    {
      "cell_type": "code",
      "source": [
        "path_test = os.path.join(path_folder, \"1984 (Nineteen Eighty-Four)\",\"Chương 1.txt\")"
      ],
      "metadata": {
        "id": "czX86F1mO1Z8"
      },
      "execution_count": 10,
      "outputs": []
    },
    {
      "cell_type": "code",
      "source": [
        "#read file path_test\n",
        "with open(path_test, 'r') as f:\n",
        "  text = f.read()"
      ],
      "metadata": {
        "id": "jDoLWFfOPTuQ"
      },
      "execution_count": 11,
      "outputs": []
    },
    {
      "cell_type": "markdown",
      "metadata": {
        "id": "UZPpoKMQoru8"
      },
      "source": [
        "If the API failed to return a result, use `GenerateContentResponse.prompt_feedback` to see if it was blocked due to safety concerns regarding the prompt."
      ]
    },
    {
      "cell_type": "code",
      "source": [
        "list_prompt = [\"Phát triển thêm ý tưởng trong đoạn văn có sẵn, lưu ý chỉ sử dụng bối cảnh đã được cung cấp. Nếu không có đoạn hội thoại, hãy viết chi tiết chương truyện từ góc nhìn của một người ngoài. Hãy in ra dạng txt. Sau đây là bản tóm tắt: \",\n",
        "\"Viết thêm chi tiết vào đoạn truyện có sẵn. Nếu có đoạn hội thoại giữa các nhân vật, hãy tăng tính thực tế và phát triển thêm dựa trên bối cảnh hiện có. Hãy in ra dạng txt. Sau đây là bản tóm tắt: \",\n",
        "\"Thêm chi tiết cho các đoạn mô tả, chỉ dựa trên bối cảnh đã cho. Nếu không có hội thoại, viết chương truyện chi tiết hơn từ góc nhìn khách quan. Hãy in ra dạng txt. Sau đây là bản tóm tắt: \",\n",
        "\"Mở rộng ý tưởng trong đoạn văn đã cho, chỉ dùng bối cảnh đã có. Nếu có hội thoại, phát triển thêm sự tương tác giữa các nhân vật để tăng tính chân thực. Hãy in ra dạng txt. Sau đây là bản tóm tắt: \",\n",
        "\"Viết thêm chi tiết vào đoạn truyện hiện có. Nếu đoạn mô tả bao gồm hội thoại, hãy làm cho các đoạn hội thoại trở nên sinh động và chân thực hơn dựa trên bối cảnh đã cho. Hãy in ra dạng txt. Sau đây là bản tóm tắt: \",\n",
        "\"Phát triển chi tiết thêm cho các ý trong đoạn văn sẵn có, dựa trên bối cảnh đã cung cấp. Nếu không có hội thoại, viết chương truyện chi tiết từ góc nhìn của người quan sát. Hãy in ra dạng txt. Sau đây là bản tóm tắt: \",\n",
        "\"Mở rộng đoạn văn có sẵn với nhiều chi tiết hơn, chỉ dựa trên bối cảnh đã được cung cấp. Nếu có hội thoại, làm cho các cuộc trò chuyện trở nên tự nhiên và chân thực hơn. Hãy in ra dạng txt. Sau đây là bản tóm tắt: \",\n",
        "\"Viết thêm chi tiết vào câu chuyện dựa trên bối cảnh có sẵn. Nếu có hội thoại, phát triển thêm các đoạn hội thoại giữa các nhân vật để tăng thêm tính thực tế. Hãy in ra dạng txt. Sau đây là bản tóm tắt: \",\n",
        "\"Thêm chi tiết vào đoạn mô tả hiện có, chỉ sử dụng bối cảnh đã cho. Nếu không có hội thoại, hãy viết chi tiết chương truyện từ góc nhìn của một người ngoài cuộc. Hãy in ra dạng txt. Sau đây là bản tóm tắt: \",\n",
        "\"Phát triển ý tưởng trong đoạn văn sẵn có với nhiều chi tiết hơn, dựa trên bối cảnh đã cung cấp. Nếu có hội thoại, làm cho các cuộc trò chuyện trở nên sinh động và thực tế hơn. Hãy in ra dạng txt. Sau đây là bản tóm tắt: \",\n",
        "\"Viết chi tiết thêm những ý trong đoạn text có sẵn, chú ý là chỉ viết dựa trên những bối cảnh đã được tôi cho sẵn. Nếu đoạn mô tả không có đoạn hội thoại thì viết chi tiết chương truyện theo góc nhìn của người ngoài nhìn vào. Hãy in ra dạng txt. Sau đây là bản tóm tắt: \",]"
      ],
      "metadata": {
        "id": "ruEpSm63P0Yg"
      },
      "execution_count": 12,
      "outputs": []
    },
    {
      "cell_type": "code",
      "source": [
        "list_model = ['gemini-1.0-pro',\n",
        " 'gemini-1.0-pro-001',\n",
        " 'gemini-1.0-pro-latest',\n",
        " 'gemini-1.5-flash',\n",
        " 'gemini-1.5-flash-001',\n",
        " 'gemini-pro']"
      ],
      "metadata": {
        "id": "IyCFMMOIa608"
      },
      "execution_count": 13,
      "outputs": []
    },
    {
      "cell_type": "code",
      "source": [
        "def get_chaper_paths() -> list[str]:\n",
        "    book_titles = os.listdir(path_folder)\n",
        "    chapter_paths = []\n",
        "\n",
        "    for title in book_titles:\n",
        "        book_path = os.path.join(path_folder, title)\n",
        "        chapter_files = os.listdir(book_path)\n",
        "        chapter_paths.extend([os.path.join(book_path, file) for file in chapter_files])\n",
        "\n",
        "    return chapter_paths"
      ],
      "metadata": {
        "id": "jRuXGKo5dWtn"
      },
      "execution_count": 14,
      "outputs": []
    },
    {
      "cell_type": "code",
      "source": [
        "path_reject = \"/content/drive/MyDrive/FPT/DPL391m/data/reject\""
      ],
      "metadata": {
        "id": "U1S52v5jduov"
      },
      "execution_count": 15,
      "outputs": []
    },
    {
      "cell_type": "code",
      "source": [
        "import random\n",
        "import os\n",
        "\n",
        "chapter_paths = get_chaper_paths()\n",
        "\n",
        "for path in chapter_paths:\n",
        "    book_title = path.split('/')[-2]\n",
        "    chapter_title = path.split('/')[-1]\n",
        "    processed_book_dir = os.path.join(path_reject, book_title)\n",
        "    if not os.path.exists(processed_book_dir):\n",
        "        os.makedirs(processed_book_dir)\n",
        "    processed_chapter_path = os.path.join(processed_book_dir, chapter_title)\n",
        "\n",
        "    # Try up to 3 times\n",
        "    for attempt in range(3):\n",
        "        if not os.path.exists(processed_chapter_path):\n",
        "            try:\n",
        "                model = genai.GenerativeModel(random.choice(list_model))\n",
        "                text = ''\n",
        "                with open(path) as file:\n",
        "                    text = file.read()\n",
        "                prompt = random.choice(list_prompt) + \"\\n\" + text\n",
        "                response = model.generate_content(prompt)\n",
        "                with open(processed_chapter_path, 'w', encoding='utf-8') as f:\n",
        "                    f.write(response.text)\n",
        "                break  # Successfully processed, move on to the next path\n",
        "            except Exception as e:\n",
        "                print(f'Attempt {attempt + 1} failed: {type(e).__name__}: {e}')\n",
        "        else:\n",
        "            break  # File already exists, move on to the next path\n",
        "    else:\n",
        "        # All attempts failed, handle the error or skip to the next path\n",
        "        print(f\"Failed to process {path} after 3 attempts. Skipping to the next path.\")\n",
        "    print(f\"Done {path}\")"
      ],
      "metadata": {
        "colab": {
          "base_uri": "https://localhost:8080/",
          "height": 1000
        },
        "id": "47NaP1DDfpFK",
        "outputId": "50495f36-d678-4995-dad9-448d932c44c1"
      },
      "execution_count": 16,
      "outputs": [
        {
          "output_type": "stream",
          "name": "stdout",
          "text": [
            "Done /content/drive/MyDrive/FPT/DPL391m/data/processed/Kiêu Hãnh Và Định Kiến/Chương 25.txt\n",
            "Done /content/drive/MyDrive/FPT/DPL391m/data/processed/Kiêu Hãnh Và Định Kiến/Chương 48.txt\n",
            "Done /content/drive/MyDrive/FPT/DPL391m/data/processed/Kiêu Hãnh Và Định Kiến/Chương 53.txt\n",
            "Done /content/drive/MyDrive/FPT/DPL391m/data/processed/Kiêu Hãnh Và Định Kiến/Chương 21.txt\n",
            "Done /content/drive/MyDrive/FPT/DPL391m/data/processed/Kiêu Hãnh Và Định Kiến/Chương 51.txt\n",
            "Done /content/drive/MyDrive/FPT/DPL391m/data/processed/Kiêu Hãnh Và Định Kiến/Chương 11.txt\n",
            "Done /content/drive/MyDrive/FPT/DPL391m/data/processed/Kiêu Hãnh Và Định Kiến/Chương 9.txt\n",
            "Done /content/drive/MyDrive/FPT/DPL391m/data/processed/Kiêu Hãnh Và Định Kiến/Chương 24.txt\n",
            "Done /content/drive/MyDrive/FPT/DPL391m/data/processed/Kiêu Hãnh Và Định Kiến/Chương 37.txt\n",
            "Done /content/drive/MyDrive/FPT/DPL391m/data/processed/Kiêu Hãnh Và Định Kiến/Chương 57.txt\n",
            "Done /content/drive/MyDrive/FPT/DPL391m/data/processed/Kiêu Hãnh Và Định Kiến/Chương 55.txt\n",
            "Done /content/drive/MyDrive/FPT/DPL391m/data/processed/Kiêu Hãnh Và Định Kiến/Chương 29.txt\n",
            "Done /content/drive/MyDrive/FPT/DPL391m/data/processed/Kiêu Hãnh Và Định Kiến/Chương 56.txt\n",
            "Done /content/drive/MyDrive/FPT/DPL391m/data/processed/Kiêu Hãnh Và Định Kiến/Chương 15.txt\n",
            "Done /content/drive/MyDrive/FPT/DPL391m/data/processed/Kiêu Hãnh Và Định Kiến/Chương 58.txt\n",
            "Done /content/drive/MyDrive/FPT/DPL391m/data/processed/Kiêu Hãnh Và Định Kiến/Chương 26.txt\n",
            "Done /content/drive/MyDrive/FPT/DPL391m/data/processed/Kiêu Hãnh Và Định Kiến/Chương 60.txt\n",
            "Done /content/drive/MyDrive/FPT/DPL391m/data/processed/Kiêu Hãnh Và Định Kiến/Chương 18.txt\n",
            "Done /content/drive/MyDrive/FPT/DPL391m/data/processed/Kiêu Hãnh Và Định Kiến/Chương 45.txt\n",
            "Done /content/drive/MyDrive/FPT/DPL391m/data/processed/Kiêu Hãnh Và Định Kiến/Chương 10.txt\n",
            "Done /content/drive/MyDrive/FPT/DPL391m/data/processed/Kiêu Hãnh Và Định Kiến/Chương 12.txt\n",
            "Done /content/drive/MyDrive/FPT/DPL391m/data/processed/Kiêu Hãnh Và Định Kiến/Chương 5.txt\n",
            "Done /content/drive/MyDrive/FPT/DPL391m/data/processed/Kiêu Hãnh Và Định Kiến/Chương 14.txt\n",
            "Done /content/drive/MyDrive/FPT/DPL391m/data/processed/Kiêu Hãnh Và Định Kiến/Chương 4.txt\n",
            "Done /content/drive/MyDrive/FPT/DPL391m/data/processed/Kiêu Hãnh Và Định Kiến/Chương 35.txt\n",
            "Done /content/drive/MyDrive/FPT/DPL391m/data/processed/Kiêu Hãnh Và Định Kiến/Chương 40.txt\n",
            "Done /content/drive/MyDrive/FPT/DPL391m/data/processed/Kiêu Hãnh Và Định Kiến/Chương 41.txt\n",
            "Done /content/drive/MyDrive/FPT/DPL391m/data/processed/Kiêu Hãnh Và Định Kiến/Chương 34.txt\n",
            "Done /content/drive/MyDrive/FPT/DPL391m/data/processed/Kiêu Hãnh Và Định Kiến/Chương 17.txt\n",
            "Done /content/drive/MyDrive/FPT/DPL391m/data/processed/Kiêu Hãnh Và Định Kiến/Chương 6.txt\n",
            "Done /content/drive/MyDrive/FPT/DPL391m/data/processed/Kiêu Hãnh Và Định Kiến/Chương 31.txt\n",
            "Done /content/drive/MyDrive/FPT/DPL391m/data/processed/Kiêu Hãnh Và Định Kiến/Chương 44.txt\n",
            "Done /content/drive/MyDrive/FPT/DPL391m/data/processed/Kiêu Hãnh Và Định Kiến/Chương 27.txt\n",
            "Done /content/drive/MyDrive/FPT/DPL391m/data/processed/Kiêu Hãnh Và Định Kiến/Chương 13.txt\n",
            "Done /content/drive/MyDrive/FPT/DPL391m/data/processed/Kiêu Hãnh Và Định Kiến/Chương 54.txt\n",
            "Done /content/drive/MyDrive/FPT/DPL391m/data/processed/Kiêu Hãnh Và Định Kiến/Chương 3.txt\n",
            "Done /content/drive/MyDrive/FPT/DPL391m/data/processed/Kiêu Hãnh Và Định Kiến/Chương 30.txt\n",
            "Done /content/drive/MyDrive/FPT/DPL391m/data/processed/Kiêu Hãnh Và Định Kiến/Chương 20.txt\n",
            "Done /content/drive/MyDrive/FPT/DPL391m/data/processed/Kiêu Hãnh Và Định Kiến/Chương 16.txt\n",
            "Done /content/drive/MyDrive/FPT/DPL391m/data/processed/Kiêu Hãnh Và Định Kiến/Chương 32.txt\n",
            "Done /content/drive/MyDrive/FPT/DPL391m/data/processed/Kiêu Hãnh Và Định Kiến/Chương 28.txt\n",
            "Done /content/drive/MyDrive/FPT/DPL391m/data/processed/Kiêu Hãnh Và Định Kiến/Chương 49.txt\n",
            "Done /content/drive/MyDrive/FPT/DPL391m/data/processed/Kiêu Hãnh Và Định Kiến/Chương 7.txt\n",
            "Done /content/drive/MyDrive/FPT/DPL391m/data/processed/Kiêu Hãnh Và Định Kiến/Chương 39.txt\n",
            "Done /content/drive/MyDrive/FPT/DPL391m/data/processed/Kiêu Hãnh Và Định Kiến/Chương 43.txt\n",
            "Done /content/drive/MyDrive/FPT/DPL391m/data/processed/Kiêu Hãnh Và Định Kiến/Chương 47.txt\n",
            "Done /content/drive/MyDrive/FPT/DPL391m/data/processed/Kiêu Hãnh Và Định Kiến/Chương 46.txt\n",
            "Done /content/drive/MyDrive/FPT/DPL391m/data/processed/Kiêu Hãnh Và Định Kiến/Chương 59.txt\n",
            "Done /content/drive/MyDrive/FPT/DPL391m/data/processed/Kiêu Hãnh Và Định Kiến/Chương 52.txt\n",
            "Done /content/drive/MyDrive/FPT/DPL391m/data/processed/Kiêu Hãnh Và Định Kiến/Chương 61.txt\n",
            "Done /content/drive/MyDrive/FPT/DPL391m/data/processed/Kiêu Hãnh Và Định Kiến/Chương 36.txt\n",
            "Done /content/drive/MyDrive/FPT/DPL391m/data/processed/Kiêu Hãnh Và Định Kiến/Chương 1.txt\n",
            "Done /content/drive/MyDrive/FPT/DPL391m/data/processed/Kiêu Hãnh Và Định Kiến/Chương 38.txt\n",
            "Done /content/drive/MyDrive/FPT/DPL391m/data/processed/Kiêu Hãnh Và Định Kiến/Chương 33.txt\n",
            "Done /content/drive/MyDrive/FPT/DPL391m/data/processed/Kiêu Hãnh Và Định Kiến/Chương 50.txt\n",
            "Done /content/drive/MyDrive/FPT/DPL391m/data/processed/Kiêu Hãnh Và Định Kiến/Chương 19.txt\n",
            "Done /content/drive/MyDrive/FPT/DPL391m/data/processed/Kiêu Hãnh Và Định Kiến/Chương 23.txt\n",
            "Done /content/drive/MyDrive/FPT/DPL391m/data/processed/Kiêu Hãnh Và Định Kiến/Chương 8.txt\n",
            "Done /content/drive/MyDrive/FPT/DPL391m/data/processed/Kiêu Hãnh Và Định Kiến/Chương 22.txt\n",
            "Done /content/drive/MyDrive/FPT/DPL391m/data/processed/Hậu Cuốn Theo Chiều Gió/Chương 44.txt\n",
            "Done /content/drive/MyDrive/FPT/DPL391m/data/processed/Hậu Cuốn Theo Chiều Gió/Chương 12.txt\n",
            "Done /content/drive/MyDrive/FPT/DPL391m/data/processed/Hậu Cuốn Theo Chiều Gió/Chương 38.txt\n",
            "Done /content/drive/MyDrive/FPT/DPL391m/data/processed/Hậu Cuốn Theo Chiều Gió/Chương 43.txt\n",
            "Done /content/drive/MyDrive/FPT/DPL391m/data/processed/Hậu Cuốn Theo Chiều Gió/Chương 80.txt\n",
            "Done /content/drive/MyDrive/FPT/DPL391m/data/processed/Hậu Cuốn Theo Chiều Gió/Chương 36.txt\n",
            "Done /content/drive/MyDrive/FPT/DPL391m/data/processed/Hậu Cuốn Theo Chiều Gió/Chương 83.txt\n",
            "Done /content/drive/MyDrive/FPT/DPL391m/data/processed/Hậu Cuốn Theo Chiều Gió/Chương 24.txt\n",
            "Done /content/drive/MyDrive/FPT/DPL391m/data/processed/Hậu Cuốn Theo Chiều Gió/Chương 29.txt\n",
            "Done /content/drive/MyDrive/FPT/DPL391m/data/processed/Hậu Cuốn Theo Chiều Gió/Chương 53.txt\n",
            "Done /content/drive/MyDrive/FPT/DPL391m/data/processed/Hậu Cuốn Theo Chiều Gió/Chương 39.txt\n",
            "Done /content/drive/MyDrive/FPT/DPL391m/data/processed/Hậu Cuốn Theo Chiều Gió/Chương 47.txt\n",
            "Done /content/drive/MyDrive/FPT/DPL391m/data/processed/Hậu Cuốn Theo Chiều Gió/Chương 87.txt\n",
            "Done /content/drive/MyDrive/FPT/DPL391m/data/processed/Hậu Cuốn Theo Chiều Gió/Chương 74.txt\n",
            "Done /content/drive/MyDrive/FPT/DPL391m/data/processed/Hậu Cuốn Theo Chiều Gió/Chương 65.txt\n",
            "Done /content/drive/MyDrive/FPT/DPL391m/data/processed/Hậu Cuốn Theo Chiều Gió/Chương 86.txt\n",
            "Done /content/drive/MyDrive/FPT/DPL391m/data/processed/Hậu Cuốn Theo Chiều Gió/Chương 69.txt\n",
            "Done /content/drive/MyDrive/FPT/DPL391m/data/processed/Hậu Cuốn Theo Chiều Gió/Chương 72.txt\n",
            "Done /content/drive/MyDrive/FPT/DPL391m/data/processed/Hậu Cuốn Theo Chiều Gió/Chương 52.txt\n",
            "Done /content/drive/MyDrive/FPT/DPL391m/data/processed/Hậu Cuốn Theo Chiều Gió/Chương 32.txt\n",
            "Done /content/drive/MyDrive/FPT/DPL391m/data/processed/Hậu Cuốn Theo Chiều Gió/Chương 60.txt\n",
            "Done /content/drive/MyDrive/FPT/DPL391m/data/processed/Hậu Cuốn Theo Chiều Gió/Chương 61.txt\n",
            "Done /content/drive/MyDrive/FPT/DPL391m/data/processed/Hậu Cuốn Theo Chiều Gió/Chương 41.txt\n",
            "Done /content/drive/MyDrive/FPT/DPL391m/data/processed/Hậu Cuốn Theo Chiều Gió/Chương 73.txt\n",
            "Done /content/drive/MyDrive/FPT/DPL391m/data/processed/Hậu Cuốn Theo Chiều Gió/Chương 66.txt\n",
            "Done /content/drive/MyDrive/FPT/DPL391m/data/processed/Hậu Cuốn Theo Chiều Gió/Chương 77.txt\n",
            "Done /content/drive/MyDrive/FPT/DPL391m/data/processed/Hậu Cuốn Theo Chiều Gió/Chương 3.txt\n",
            "Done /content/drive/MyDrive/FPT/DPL391m/data/processed/Hậu Cuốn Theo Chiều Gió/Chương 5.txt\n",
            "Done /content/drive/MyDrive/FPT/DPL391m/data/processed/Hậu Cuốn Theo Chiều Gió/Chương 57.txt\n",
            "Done /content/drive/MyDrive/FPT/DPL391m/data/processed/Hậu Cuốn Theo Chiều Gió/Chương 9.txt\n",
            "Done /content/drive/MyDrive/FPT/DPL391m/data/processed/Hậu Cuốn Theo Chiều Gió/Chương 59.txt\n",
            "Done /content/drive/MyDrive/FPT/DPL391m/data/processed/Hậu Cuốn Theo Chiều Gió/Chương 27.txt\n",
            "Done /content/drive/MyDrive/FPT/DPL391m/data/processed/Hậu Cuốn Theo Chiều Gió/Chương 82.txt\n",
            "Done /content/drive/MyDrive/FPT/DPL391m/data/processed/Hậu Cuốn Theo Chiều Gió/Chương 1.txt\n",
            "Done /content/drive/MyDrive/FPT/DPL391m/data/processed/Hậu Cuốn Theo Chiều Gió/Chương 70.txt\n",
            "Done /content/drive/MyDrive/FPT/DPL391m/data/processed/Hậu Cuốn Theo Chiều Gió/Chương 10.txt\n",
            "Done /content/drive/MyDrive/FPT/DPL391m/data/processed/Hậu Cuốn Theo Chiều Gió/Chương 30.txt\n",
            "Done /content/drive/MyDrive/FPT/DPL391m/data/processed/Hậu Cuốn Theo Chiều Gió/Chương 6.txt\n",
            "Done /content/drive/MyDrive/FPT/DPL391m/data/processed/Hậu Cuốn Theo Chiều Gió/Chương 17.txt\n",
            "Done /content/drive/MyDrive/FPT/DPL391m/data/processed/Hậu Cuốn Theo Chiều Gió/Chương 16.txt\n",
            "Done /content/drive/MyDrive/FPT/DPL391m/data/processed/Hậu Cuốn Theo Chiều Gió/Chương 21.txt\n",
            "Done /content/drive/MyDrive/FPT/DPL391m/data/processed/Hậu Cuốn Theo Chiều Gió/Chương 58.txt\n",
            "Done /content/drive/MyDrive/FPT/DPL391m/data/processed/Hậu Cuốn Theo Chiều Gió/Chương 46.txt\n",
            "Done /content/drive/MyDrive/FPT/DPL391m/data/processed/Hậu Cuốn Theo Chiều Gió/Chương 62.txt\n",
            "Done /content/drive/MyDrive/FPT/DPL391m/data/processed/Hậu Cuốn Theo Chiều Gió/Chương 78.txt\n",
            "Done /content/drive/MyDrive/FPT/DPL391m/data/processed/Hậu Cuốn Theo Chiều Gió/Chương 2.txt\n",
            "Done /content/drive/MyDrive/FPT/DPL391m/data/processed/Hậu Cuốn Theo Chiều Gió/Chương 75.txt\n",
            "Done /content/drive/MyDrive/FPT/DPL391m/data/processed/Hậu Cuốn Theo Chiều Gió/Chương 67.txt\n",
            "Done /content/drive/MyDrive/FPT/DPL391m/data/processed/Hậu Cuốn Theo Chiều Gió/Chương 85.txt\n",
            "Done /content/drive/MyDrive/FPT/DPL391m/data/processed/Hậu Cuốn Theo Chiều Gió/Chương 71.txt\n",
            "Done /content/drive/MyDrive/FPT/DPL391m/data/processed/Hậu Cuốn Theo Chiều Gió/Chương 35.txt\n",
            "Done /content/drive/MyDrive/FPT/DPL391m/data/processed/Hậu Cuốn Theo Chiều Gió/Chương 64.txt\n",
            "Done /content/drive/MyDrive/FPT/DPL391m/data/processed/Hậu Cuốn Theo Chiều Gió/Chương 15.txt\n",
            "Done /content/drive/MyDrive/FPT/DPL391m/data/processed/Hậu Cuốn Theo Chiều Gió/Chương 31.txt\n",
            "Done /content/drive/MyDrive/FPT/DPL391m/data/processed/Hậu Cuốn Theo Chiều Gió/Chương 28.txt\n",
            "Done /content/drive/MyDrive/FPT/DPL391m/data/processed/Hậu Cuốn Theo Chiều Gió/Chương 56.txt\n",
            "Done /content/drive/MyDrive/FPT/DPL391m/data/processed/Hậu Cuốn Theo Chiều Gió/Chương 89.txt\n",
            "Done /content/drive/MyDrive/FPT/DPL391m/data/processed/Hậu Cuốn Theo Chiều Gió/Chương 11.txt\n",
            "Done /content/drive/MyDrive/FPT/DPL391m/data/processed/Hậu Cuốn Theo Chiều Gió/Chương 26.txt\n",
            "Done /content/drive/MyDrive/FPT/DPL391m/data/processed/Hậu Cuốn Theo Chiều Gió/Chương 37.txt\n",
            "Done /content/drive/MyDrive/FPT/DPL391m/data/processed/Hậu Cuốn Theo Chiều Gió/Chương 76.txt\n",
            "Done /content/drive/MyDrive/FPT/DPL391m/data/processed/Hậu Cuốn Theo Chiều Gió/Chương 4.txt\n",
            "Done /content/drive/MyDrive/FPT/DPL391m/data/processed/Hậu Cuốn Theo Chiều Gió/Chương 55.txt\n",
            "Done /content/drive/MyDrive/FPT/DPL391m/data/processed/Hậu Cuốn Theo Chiều Gió/Chương 22.txt\n",
            "Done /content/drive/MyDrive/FPT/DPL391m/data/processed/Hậu Cuốn Theo Chiều Gió/Chương 33.txt\n",
            "Done /content/drive/MyDrive/FPT/DPL391m/data/processed/Hậu Cuốn Theo Chiều Gió/Chương 48.txt\n",
            "Done /content/drive/MyDrive/FPT/DPL391m/data/processed/Hậu Cuốn Theo Chiều Gió/Chương 50.txt\n",
            "Done /content/drive/MyDrive/FPT/DPL391m/data/processed/Hậu Cuốn Theo Chiều Gió/Chương 20.txt\n",
            "Done /content/drive/MyDrive/FPT/DPL391m/data/processed/Hậu Cuốn Theo Chiều Gió/Chương 54.txt\n",
            "Done /content/drive/MyDrive/FPT/DPL391m/data/processed/Hậu Cuốn Theo Chiều Gió/Chương 68.txt\n",
            "Done /content/drive/MyDrive/FPT/DPL391m/data/processed/Hậu Cuốn Theo Chiều Gió/Chương 88.txt\n",
            "Done /content/drive/MyDrive/FPT/DPL391m/data/processed/Hậu Cuốn Theo Chiều Gió/Chương 23.txt\n",
            "Done /content/drive/MyDrive/FPT/DPL391m/data/processed/Hậu Cuốn Theo Chiều Gió/Chương 18.txt\n",
            "Done /content/drive/MyDrive/FPT/DPL391m/data/processed/Hậu Cuốn Theo Chiều Gió/Chương 49.txt\n",
            "Done /content/drive/MyDrive/FPT/DPL391m/data/processed/Hậu Cuốn Theo Chiều Gió/Chương 45.txt\n",
            "Done /content/drive/MyDrive/FPT/DPL391m/data/processed/Hậu Cuốn Theo Chiều Gió/Chương 8.txt\n",
            "Done /content/drive/MyDrive/FPT/DPL391m/data/processed/Hậu Cuốn Theo Chiều Gió/Chương 51.txt\n",
            "Done /content/drive/MyDrive/FPT/DPL391m/data/processed/Hậu Cuốn Theo Chiều Gió/Chương 42.txt\n",
            "Done /content/drive/MyDrive/FPT/DPL391m/data/processed/Hậu Cuốn Theo Chiều Gió/Chương 7.txt\n",
            "Done /content/drive/MyDrive/FPT/DPL391m/data/processed/Hậu Cuốn Theo Chiều Gió/Chương 81.txt\n",
            "Done /content/drive/MyDrive/FPT/DPL391m/data/processed/Hậu Cuốn Theo Chiều Gió/Chương 14.txt\n",
            "Done /content/drive/MyDrive/FPT/DPL391m/data/processed/Hậu Cuốn Theo Chiều Gió/Chương 79.txt\n",
            "Done /content/drive/MyDrive/FPT/DPL391m/data/processed/Hậu Cuốn Theo Chiều Gió/Chương 84.txt\n",
            "Done /content/drive/MyDrive/FPT/DPL391m/data/processed/Hậu Cuốn Theo Chiều Gió/Chương 40.txt\n",
            "Done /content/drive/MyDrive/FPT/DPL391m/data/processed/Hậu Cuốn Theo Chiều Gió/Chương 19.txt\n",
            "Done /content/drive/MyDrive/FPT/DPL391m/data/processed/Hậu Cuốn Theo Chiều Gió/Chương 34.txt\n",
            "Done /content/drive/MyDrive/FPT/DPL391m/data/processed/Hậu Cuốn Theo Chiều Gió/Chương 25.txt\n",
            "Done /content/drive/MyDrive/FPT/DPL391m/data/processed/Hậu Cuốn Theo Chiều Gió/Chương 63.txt\n",
            "Done /content/drive/MyDrive/FPT/DPL391m/data/processed/Hậu Cuốn Theo Chiều Gió/Chương 13.txt\n",
            "Done /content/drive/MyDrive/FPT/DPL391m/data/processed/Đồi Gió Hú/Chương 4 - Catherine gặp rắc rối.txt\n",
            "Done /content/drive/MyDrive/FPT/DPL391m/data/processed/Đồi Gió Hú/Chương 11 - Isabella trốn thoát - Cái chết của Hindley.txt\n",
            "Done /content/drive/MyDrive/FPT/DPL391m/data/processed/Đồi Gió Hú/Chương 9 - Heathcliff đến thăm Catherine.txt\n",
            "Done /content/drive/MyDrive/FPT/DPL391m/data/processed/Đồi Gió Hú/Chương 10 - Cái chết của Catherine.txt\n",
            "Done /content/drive/MyDrive/FPT/DPL391m/data/processed/Đồi Gió Hú/Chương 7 - Cuộc gặp gỡ bí mật của Isabella.txt\n",
            "Done /content/drive/MyDrive/FPT/DPL391m/data/processed/Đồi Gió Hú/Chương 3 - Heathcliff được mang về.txt\n",
            "Done /content/drive/MyDrive/FPT/DPL391m/data/processed/Đồi Gió Hú/Chương 18 - Cathy bị đưa về lại.txt\n",
            "Done /content/drive/MyDrive/FPT/DPL391m/data/processed/Đồi Gió Hú/Chương 20 - Hareton và Cathy kết bạn.txt\n",
            "Done /content/drive/MyDrive/FPT/DPL391m/data/processed/Đồi Gió Hú/Chương 8 - Isabella bỏ trốn.txt\n",
            "Done /content/drive/MyDrive/FPT/DPL391m/data/processed/Đồi Gió Hú/Chương 5 - Heathcliff biến mất.txt\n",
            "Done /content/drive/MyDrive/FPT/DPL391m/data/processed/Đồi Gió Hú/Chương 1 - Ông Lockwood gặp Heathcliff.txt\n",
            "Done /content/drive/MyDrive/FPT/DPL391m/data/processed/Đồi Gió Hú/Chương 2 - Lockwood nghỉ đêm tại Đỉnh Gió Hú.txt\n",
            "Done /content/drive/MyDrive/FPT/DPL391m/data/processed/Đồi Gió Hú/Chương 17 - Cathy trở thành tù nhân và làm lễ kết hôn.txt\n",
            "Done /content/drive/MyDrive/FPT/DPL391m/data/processed/Đồi Gió Hú/Chương 13 - Bé Linton gặp cha.txt\n",
            "Done /content/drive/MyDrive/FPT/DPL391m/data/processed/Đồi Gió Hú/Chương 6 - Heathcliff trở về.txt\n",
            "Done /content/drive/MyDrive/FPT/DPL391m/data/processed/Đồi Gió Hú/Chương 14 - Cathy gặp lại hai người anh em họ.txt\n",
            "Done /content/drive/MyDrive/FPT/DPL391m/data/processed/Đồi Gió Hú/Chương 19 - Ông Lockwood kể về hai lần sang thăm trại kế theo.txt\n",
            "Done /content/drive/MyDrive/FPT/DPL391m/data/processed/Đồi Gió Hú/Chương 21 - Ellen Dean kết thúc câu chuyện.txt\n",
            "Done /content/drive/MyDrive/FPT/DPL391m/data/processed/Đồi Gió Hú/Chương 12 - Cathy phát hiện ra.txt\n",
            "Done /content/drive/MyDrive/FPT/DPL391m/data/processed/Đồi Gió Hú/Chương 16 - Những cuộc thăm viếng bí mật của Cathy.txt\n",
            "Done /content/drive/MyDrive/FPT/DPL391m/data/processed/Đồi Gió Hú/Chương 15.txt\n",
            "Done /content/drive/MyDrive/FPT/DPL391m/data/processed/Jane Eyre FULL/Mở Đầu.txt\n",
            "Done /content/drive/MyDrive/FPT/DPL391m/data/processed/Jane Eyre FULL/Chương 7.txt\n",
            "Done /content/drive/MyDrive/FPT/DPL391m/data/processed/Jane Eyre FULL/Chương 9.txt\n",
            "Done /content/drive/MyDrive/FPT/DPL391m/data/processed/Jane Eyre FULL/Chương 4.txt\n",
            "Done /content/drive/MyDrive/FPT/DPL391m/data/processed/Jane Eyre FULL/Chương 10.txt\n",
            "Done /content/drive/MyDrive/FPT/DPL391m/data/processed/Jane Eyre FULL/Chương 8.txt\n",
            "Done /content/drive/MyDrive/FPT/DPL391m/data/processed/Jane Eyre FULL/Chương 3.txt\n",
            "Done /content/drive/MyDrive/FPT/DPL391m/data/processed/Jane Eyre FULL/Chương 6.txt\n",
            "Done /content/drive/MyDrive/FPT/DPL391m/data/processed/Jane Eyre FULL/Chương 2.txt\n",
            "Done /content/drive/MyDrive/FPT/DPL391m/data/processed/Jane Eyre FULL/Chương 5.txt\n",
            "Done /content/drive/MyDrive/FPT/DPL391m/data/processed/Harry Potter và Hội Phượng Hoàng (Quyển 5)/Chương 07 -- 08.txt\n",
            "Done /content/drive/MyDrive/FPT/DPL391m/data/processed/Harry Potter và Hội Phượng Hoàng (Quyển 5)/Chương 15 -- 16.txt\n",
            "Done /content/drive/MyDrive/FPT/DPL391m/data/processed/Harry Potter và Hội Phượng Hoàng (Quyển 5)/Chương 31 -- 32.txt\n",
            "Done /content/drive/MyDrive/FPT/DPL391m/data/processed/Harry Potter và Hội Phượng Hoàng (Quyển 5)/Chương 35 -- 36.txt\n",
            "Done /content/drive/MyDrive/FPT/DPL391m/data/processed/Harry Potter và Hội Phượng Hoàng (Quyển 5)/Chương 37 -- 38 (End).txt\n",
            "Done /content/drive/MyDrive/FPT/DPL391m/data/processed/Harry Potter và Hội Phượng Hoàng (Quyển 5)/Chương 05 -- 06.txt\n",
            "Done /content/drive/MyDrive/FPT/DPL391m/data/processed/Harry Potter và Hội Phượng Hoàng (Quyển 5)/Chương 27 -- 28.txt\n",
            "Done /content/drive/MyDrive/FPT/DPL391m/data/processed/Harry Potter và Hội Phượng Hoàng (Quyển 5)/Chương 11 -- 12.txt\n",
            "Done /content/drive/MyDrive/FPT/DPL391m/data/processed/Harry Potter và Hội Phượng Hoàng (Quyển 5)/Chương 25 -- 26.txt\n",
            "Done /content/drive/MyDrive/FPT/DPL391m/data/processed/Harry Potter và Hội Phượng Hoàng (Quyển 5)/Chương 17 -- 18.txt\n",
            "Done /content/drive/MyDrive/FPT/DPL391m/data/processed/Harry Potter và Hội Phượng Hoàng (Quyển 5)/Chương 01 -- 02.txt\n",
            "Done /content/drive/MyDrive/FPT/DPL391m/data/processed/Harry Potter và Hội Phượng Hoàng (Quyển 5)/Chương 13 -- 14.txt\n",
            "Done /content/drive/MyDrive/FPT/DPL391m/data/processed/Harry Potter và Hội Phượng Hoàng (Quyển 5)/Chương 09 -- 10.txt\n",
            "Done /content/drive/MyDrive/FPT/DPL391m/data/processed/Harry Potter và Hội Phượng Hoàng (Quyển 5)/Chương 03 -- 04.txt\n",
            "Done /content/drive/MyDrive/FPT/DPL391m/data/processed/Harry Potter và Hội Phượng Hoàng (Quyển 5)/Chương 29 -- 30.txt\n",
            "Done /content/drive/MyDrive/FPT/DPL391m/data/processed/Harry Potter và Hội Phượng Hoàng (Quyển 5)/Chương 19 -- 20.txt\n",
            "Done /content/drive/MyDrive/FPT/DPL391m/data/processed/Harry Potter và Hội Phượng Hoàng (Quyển 5)/Chương 21 -- 22.txt\n",
            "Done /content/drive/MyDrive/FPT/DPL391m/data/processed/Harry Potter và Hội Phượng Hoàng (Quyển 5)/Chương 33 -- 34.txt\n",
            "Done /content/drive/MyDrive/FPT/DPL391m/data/processed/Chúa tể những chiếc nhẫn/Chương 14 Phần 2.txt\n",
            "Done /content/drive/MyDrive/FPT/DPL391m/data/processed/Chúa tể những chiếc nhẫn/Chương 08 Phần 1.txt\n",
            "Done /content/drive/MyDrive/FPT/DPL391m/data/processed/Chúa tể những chiếc nhẫn/Chương 06 Phần 1.txt\n",
            "Done /content/drive/MyDrive/FPT/DPL391m/data/processed/Chúa tể những chiếc nhẫn/Chương 21 Phần 1.txt\n",
            "Done /content/drive/MyDrive/FPT/DPL391m/data/processed/Chúa tể những chiếc nhẫn/Chương 02 Phần 1.txt\n",
            "Done /content/drive/MyDrive/FPT/DPL391m/data/processed/Chúa tể những chiếc nhẫn/Chương 06 Phần 2.txt\n",
            "Done /content/drive/MyDrive/FPT/DPL391m/data/processed/Chúa tể những chiếc nhẫn/Chương 08 Phần 2.txt\n",
            "Done /content/drive/MyDrive/FPT/DPL391m/data/processed/Chúa tể những chiếc nhẫn/Chương 14 Phần 5.txt\n",
            "Done /content/drive/MyDrive/FPT/DPL391m/data/processed/Chúa tể những chiếc nhẫn/Chương 21 Phần 3.txt\n",
            "Done /content/drive/MyDrive/FPT/DPL391m/data/processed/Chúa tể những chiếc nhẫn/Chương 18 Phần 1.txt\n",
            "Done /content/drive/MyDrive/FPT/DPL391m/data/processed/Chúa tể những chiếc nhẫn/Chương 16 Phần 1.txt\n",
            "Done /content/drive/MyDrive/FPT/DPL391m/data/processed/Chúa tể những chiếc nhẫn/Chương 14 Phần 4.txt\n",
            "Done /content/drive/MyDrive/FPT/DPL391m/data/processed/Chúa tể những chiếc nhẫn/Chương 19 Phần 1.txt\n",
            "Done /content/drive/MyDrive/FPT/DPL391m/data/processed/Chúa tể những chiếc nhẫn/Chương 17 Phần 2.txt\n",
            "Done /content/drive/MyDrive/FPT/DPL391m/data/processed/Chúa tể những chiếc nhẫn/Chương 16 Phần 3.txt\n",
            "Done /content/drive/MyDrive/FPT/DPL391m/data/processed/Chúa tể những chiếc nhẫn/Chương 03 Phần 1.txt\n",
            "Done /content/drive/MyDrive/FPT/DPL391m/data/processed/Chúa tể những chiếc nhẫn/Chương 16 Phần 2.txt\n",
            "Done /content/drive/MyDrive/FPT/DPL391m/data/processed/Chúa tể những chiếc nhẫn/Chương 01 Phần 3.txt\n",
            "Done /content/drive/MyDrive/FPT/DPL391m/data/processed/Chúa tể những chiếc nhẫn/Chương 20 Phần 1.txt\n",
            "Done /content/drive/MyDrive/FPT/DPL391m/data/processed/Chúa tể những chiếc nhẫn/Chương 12 Phần 1.txt\n",
            "Done /content/drive/MyDrive/FPT/DPL391m/data/processed/Chúa tể những chiếc nhẫn/Chương 07 Phần 1.txt\n",
            "Done /content/drive/MyDrive/FPT/DPL391m/data/processed/Chúa tể những chiếc nhẫn/Chương 10 Phần 1.txt\n",
            "Done /content/drive/MyDrive/FPT/DPL391m/data/processed/Chúa tể những chiếc nhẫn/Chương 13 Phần 2.txt\n",
            "Done /content/drive/MyDrive/FPT/DPL391m/data/processed/Chúa tể những chiếc nhẫn/Chương 02 Phần 2.txt\n",
            "Done /content/drive/MyDrive/FPT/DPL391m/data/processed/Chúa tể những chiếc nhẫn/Chương 20 Phần 2.txt\n",
            "Done /content/drive/MyDrive/FPT/DPL391m/data/processed/Chúa tể những chiếc nhẫn/Chương 04 Phần 1.txt\n",
            "Done /content/drive/MyDrive/FPT/DPL391m/data/processed/Chúa tể những chiếc nhẫn/Chương 17 Phần 1.txt\n",
            "Done /content/drive/MyDrive/FPT/DPL391m/data/processed/Chúa tể những chiếc nhẫn/Chương 05 Phần 2.txt\n",
            "Done /content/drive/MyDrive/FPT/DPL391m/data/processed/Chúa tể những chiếc nhẫn/Chương 12 Phần 2.txt\n",
            "Done /content/drive/MyDrive/FPT/DPL391m/data/processed/Chúa tể những chiếc nhẫn/Chương 09 Phần 1.txt\n",
            "Done /content/drive/MyDrive/FPT/DPL391m/data/processed/Chúa tể những chiếc nhẫn/Chương 21 Phần 2.txt\n",
            "Done /content/drive/MyDrive/FPT/DPL391m/data/processed/Chúa tể những chiếc nhẫn/Chương 03 Phần 3.txt\n",
            "Done /content/drive/MyDrive/FPT/DPL391m/data/processed/Chúa tể những chiếc nhẫn/Chương 19 Phần 2.txt\n",
            "Done /content/drive/MyDrive/FPT/DPL391m/data/processed/Chúa tể những chiếc nhẫn/Chương 04 Phần 2.txt\n",
            "Done /content/drive/MyDrive/FPT/DPL391m/data/processed/Chúa tể những chiếc nhẫn/Chương 15 Phần 2.txt\n",
            "Done /content/drive/MyDrive/FPT/DPL391m/data/processed/Chúa tể những chiếc nhẫn/Chương 05 Phần 1.txt\n",
            "Done /content/drive/MyDrive/FPT/DPL391m/data/processed/Chúa tể những chiếc nhẫn/Chương 12 Phần 3.txt\n",
            "Done /content/drive/MyDrive/FPT/DPL391m/data/processed/Chúa tể những chiếc nhẫn/Chương 01 Phần 2.txt\n",
            "Done /content/drive/MyDrive/FPT/DPL391m/data/processed/Chúa tể những chiếc nhẫn/Chương 11 Phần 3.txt\n",
            "Done /content/drive/MyDrive/FPT/DPL391m/data/processed/Chúa tể những chiếc nhẫn/Chương 02 Phần 3.txt\n",
            "Done /content/drive/MyDrive/FPT/DPL391m/data/processed/Chúa tể những chiếc nhẫn/Chương 01 Phần 1.txt\n",
            "Done /content/drive/MyDrive/FPT/DPL391m/data/processed/Chúa tể những chiếc nhẫn/Chương 13 Phần 1.txt\n",
            "Done /content/drive/MyDrive/FPT/DPL391m/data/processed/Chúa tể những chiếc nhẫn/Chương 18 Phần 3.txt\n",
            "Done /content/drive/MyDrive/FPT/DPL391m/data/processed/Chúa tể những chiếc nhẫn/Chương 03 Phần 2.txt\n",
            "Done /content/drive/MyDrive/FPT/DPL391m/data/processed/Chúa tể những chiếc nhẫn/Chương 11 Phần 2.txt\n",
            "Done /content/drive/MyDrive/FPT/DPL391m/data/processed/Chúa tể những chiếc nhẫn/Chương 14 Phần 1.txt\n",
            "Done /content/drive/MyDrive/FPT/DPL391m/data/processed/Chúa tể những chiếc nhẫn/Chương 21 Phần 4 (Hết).txt\n",
            "Done /content/drive/MyDrive/FPT/DPL391m/data/processed/Chúa tể những chiếc nhẫn/Chương 09 Phần 2.txt\n",
            "Done /content/drive/MyDrive/FPT/DPL391m/data/processed/Chúa tể những chiếc nhẫn/Chương 10 Phần 2.txt\n",
            "Done /content/drive/MyDrive/FPT/DPL391m/data/processed/Chúa tể những chiếc nhẫn/Chương 18 Phần 2.txt\n",
            "Done /content/drive/MyDrive/FPT/DPL391m/data/processed/Chúa tể những chiếc nhẫn/Chương 14 Phần 3.txt\n",
            "Done /content/drive/MyDrive/FPT/DPL391m/data/processed/Chúa tể những chiếc nhẫn/Chương 07 Phần 2.txt\n",
            "Done /content/drive/MyDrive/FPT/DPL391m/data/processed/Chúa tể những chiếc nhẫn/Chương 11 Phần 1.txt\n",
            "Done /content/drive/MyDrive/FPT/DPL391m/data/processed/Chúa tể những chiếc nhẫn/Chương 15 Phần 1.txt\n",
            "Done /content/drive/MyDrive/FPT/DPL391m/data/processed/Harry Potter và Tên tù nhân ngục Azkaban (Quyển 3)/Chương 10.txt\n",
            "Done /content/drive/MyDrive/FPT/DPL391m/data/processed/Harry Potter và Tên tù nhân ngục Azkaban (Quyển 3)/Chương 22 (End).txt\n",
            "Done /content/drive/MyDrive/FPT/DPL391m/data/processed/Harry Potter và Tên tù nhân ngục Azkaban (Quyển 3)/Chương 16.txt\n",
            "Done /content/drive/MyDrive/FPT/DPL391m/data/processed/Harry Potter và Tên tù nhân ngục Azkaban (Quyển 3)/Chương 18.txt\n",
            "Done /content/drive/MyDrive/FPT/DPL391m/data/processed/Harry Potter và Tên tù nhân ngục Azkaban (Quyển 3)/Chương 09.txt\n",
            "Done /content/drive/MyDrive/FPT/DPL391m/data/processed/Harry Potter và Tên tù nhân ngục Azkaban (Quyển 3)/Chương 02.txt\n",
            "Done /content/drive/MyDrive/FPT/DPL391m/data/processed/Harry Potter và Tên tù nhân ngục Azkaban (Quyển 3)/Chương 04.txt\n",
            "Done /content/drive/MyDrive/FPT/DPL391m/data/processed/Harry Potter và Tên tù nhân ngục Azkaban (Quyển 3)/Chương 21.txt\n",
            "Done /content/drive/MyDrive/FPT/DPL391m/data/processed/Harry Potter và Tên tù nhân ngục Azkaban (Quyển 3)/Chương 19.txt\n",
            "Done /content/drive/MyDrive/FPT/DPL391m/data/processed/Harry Potter và Tên tù nhân ngục Azkaban (Quyển 3)/Chương 12.txt\n",
            "Done /content/drive/MyDrive/FPT/DPL391m/data/processed/Harry Potter và Tên tù nhân ngục Azkaban (Quyển 3)/Chương 06.txt\n",
            "Done /content/drive/MyDrive/FPT/DPL391m/data/processed/Harry Potter và Tên tù nhân ngục Azkaban (Quyển 3)/Chương 14.txt\n",
            "Done /content/drive/MyDrive/FPT/DPL391m/data/processed/Harry Potter và Tên tù nhân ngục Azkaban (Quyển 3)/Chương 20.txt\n",
            "Done /content/drive/MyDrive/FPT/DPL391m/data/processed/Harry Potter và Tên tù nhân ngục Azkaban (Quyển 3)/Chương 15.txt\n",
            "Done /content/drive/MyDrive/FPT/DPL391m/data/processed/Harry Potter và Tên tù nhân ngục Azkaban (Quyển 3)/Chương 11.txt\n",
            "Done /content/drive/MyDrive/FPT/DPL391m/data/processed/Harry Potter và Tên tù nhân ngục Azkaban (Quyển 3)/Chương 05.txt\n",
            "Done /content/drive/MyDrive/FPT/DPL391m/data/processed/Harry Potter và Tên tù nhân ngục Azkaban (Quyển 3)/Chương 03.txt\n",
            "Done /content/drive/MyDrive/FPT/DPL391m/data/processed/Harry Potter và Tên tù nhân ngục Azkaban (Quyển 3)/Chương 01.txt\n",
            "Done /content/drive/MyDrive/FPT/DPL391m/data/processed/Harry Potter và Tên tù nhân ngục Azkaban (Quyển 3)/Chương 08.txt\n",
            "Done /content/drive/MyDrive/FPT/DPL391m/data/processed/Harry Potter và Tên tù nhân ngục Azkaban (Quyển 3)/Chương 07.txt\n",
            "Done /content/drive/MyDrive/FPT/DPL391m/data/processed/Harry Potter và Tên tù nhân ngục Azkaban (Quyển 3)/Chương 13.txt\n",
            "Done /content/drive/MyDrive/FPT/DPL391m/data/processed/Harry Potter và Tên tù nhân ngục Azkaban (Quyển 3)/Chương 17.txt\n",
            "Done /content/drive/MyDrive/FPT/DPL391m/data/processed/Harry Potter và Chiếc cốc lửa (Quyển 4)/Chương 02.txt\n",
            "Done /content/drive/MyDrive/FPT/DPL391m/data/processed/Harry Potter và Chiếc cốc lửa (Quyển 4)/Chương 18.txt\n",
            "Done /content/drive/MyDrive/FPT/DPL391m/data/processed/Harry Potter và Chiếc cốc lửa (Quyển 4)/Chương 13.txt\n",
            "Done /content/drive/MyDrive/FPT/DPL391m/data/processed/Harry Potter và Chiếc cốc lửa (Quyển 4)/Chương 07.txt\n",
            "Done /content/drive/MyDrive/FPT/DPL391m/data/processed/Harry Potter và Chiếc cốc lửa (Quyển 4)/Chương 15.txt\n",
            "Done /content/drive/MyDrive/FPT/DPL391m/data/processed/Harry Potter và Chiếc cốc lửa (Quyển 4)/Chương 05.txt\n",
            "Done /content/drive/MyDrive/FPT/DPL391m/data/processed/Harry Potter và Chiếc cốc lửa (Quyển 4)/Chương 30.txt\n",
            "Done /content/drive/MyDrive/FPT/DPL391m/data/processed/Harry Potter và Chiếc cốc lửa (Quyển 4)/Chương 14.txt\n",
            "Done /content/drive/MyDrive/FPT/DPL391m/data/processed/Harry Potter và Chiếc cốc lửa (Quyển 4)/Chương 28.txt\n",
            "Done /content/drive/MyDrive/FPT/DPL391m/data/processed/Harry Potter và Chiếc cốc lửa (Quyển 4)/Chương 19.txt\n",
            "Done /content/drive/MyDrive/FPT/DPL391m/data/processed/Harry Potter và Chiếc cốc lửa (Quyển 4)/Chương 27.txt\n",
            "Done /content/drive/MyDrive/FPT/DPL391m/data/processed/Harry Potter và Chiếc cốc lửa (Quyển 4)/Chương 08.txt\n",
            "Done /content/drive/MyDrive/FPT/DPL391m/data/processed/Harry Potter và Chiếc cốc lửa (Quyển 4)/Chương 35.txt\n",
            "Done /content/drive/MyDrive/FPT/DPL391m/data/processed/Harry Potter và Chiếc cốc lửa (Quyển 4)/Chương 33.txt\n",
            "Done /content/drive/MyDrive/FPT/DPL391m/data/processed/Harry Potter và Chiếc cốc lửa (Quyển 4)/Chương 10.txt\n",
            "Done /content/drive/MyDrive/FPT/DPL391m/data/processed/Harry Potter và Chiếc cốc lửa (Quyển 4)/Chương 17.txt\n",
            "Done /content/drive/MyDrive/FPT/DPL391m/data/processed/Harry Potter và Chiếc cốc lửa (Quyển 4)/Chương 22.txt\n",
            "Done /content/drive/MyDrive/FPT/DPL391m/data/processed/Harry Potter và Chiếc cốc lửa (Quyển 4)/Chương 36.txt\n",
            "Done /content/drive/MyDrive/FPT/DPL391m/data/processed/Harry Potter và Chiếc cốc lửa (Quyển 4)/Chương 09.txt\n",
            "Done /content/drive/MyDrive/FPT/DPL391m/data/processed/Harry Potter và Chiếc cốc lửa (Quyển 4)/Chương 23.txt\n",
            "Done /content/drive/MyDrive/FPT/DPL391m/data/processed/Harry Potter và Chiếc cốc lửa (Quyển 4)/Chương 24.txt\n",
            "Done /content/drive/MyDrive/FPT/DPL391m/data/processed/Harry Potter và Chiếc cốc lửa (Quyển 4)/Chương 03.txt\n",
            "Done /content/drive/MyDrive/FPT/DPL391m/data/processed/Harry Potter và Chiếc cốc lửa (Quyển 4)/Chương 06.txt\n",
            "Done /content/drive/MyDrive/FPT/DPL391m/data/processed/Harry Potter và Chiếc cốc lửa (Quyển 4)/Chương 37 (End).txt\n",
            "Done /content/drive/MyDrive/FPT/DPL391m/data/processed/Harry Potter và Chiếc cốc lửa (Quyển 4)/Chương 04.txt\n",
            "Done /content/drive/MyDrive/FPT/DPL391m/data/processed/Harry Potter và Chiếc cốc lửa (Quyển 4)/Chương 20.txt\n",
            "Done /content/drive/MyDrive/FPT/DPL391m/data/processed/Harry Potter và Chiếc cốc lửa (Quyển 4)/Chương 21.txt\n",
            "Done /content/drive/MyDrive/FPT/DPL391m/data/processed/Harry Potter và Chiếc cốc lửa (Quyển 4)/Chương 29.txt\n",
            "Done /content/drive/MyDrive/FPT/DPL391m/data/processed/Harry Potter và Chiếc cốc lửa (Quyển 4)/Chương 34.txt\n",
            "Done /content/drive/MyDrive/FPT/DPL391m/data/processed/Harry Potter và Chiếc cốc lửa (Quyển 4)/Chương 26.txt\n",
            "Done /content/drive/MyDrive/FPT/DPL391m/data/processed/Harry Potter và Chiếc cốc lửa (Quyển 4)/Chương 32.txt\n",
            "Done /content/drive/MyDrive/FPT/DPL391m/data/processed/Harry Potter và Chiếc cốc lửa (Quyển 4)/Chương 11.txt\n",
            "Done /content/drive/MyDrive/FPT/DPL391m/data/processed/Harry Potter và Chiếc cốc lửa (Quyển 4)/Chương 16.txt\n",
            "Done /content/drive/MyDrive/FPT/DPL391m/data/processed/Harry Potter và Chiếc cốc lửa (Quyển 4)/Chương 31.txt\n",
            "Done /content/drive/MyDrive/FPT/DPL391m/data/processed/Harry Potter và Chiếc cốc lửa (Quyển 4)/Chương 25.txt\n",
            "Done /content/drive/MyDrive/FPT/DPL391m/data/processed/Harry Potter và Chiếc cốc lửa (Quyển 4)/Chương 12.txt\n",
            "Done /content/drive/MyDrive/FPT/DPL391m/data/processed/Harry Potter và Chiếc cốc lửa (Quyển 4)/Chương 01.txt\n",
            "Done /content/drive/MyDrive/FPT/DPL391m/data/processed/Harry Potter và Hoàng tử lai (Quyển 6)/Chương 10.txt\n",
            "Done /content/drive/MyDrive/FPT/DPL391m/data/processed/Harry Potter và Hoàng tử lai (Quyển 6)/Chương 07.txt\n",
            "Done /content/drive/MyDrive/FPT/DPL391m/data/processed/Harry Potter và Hoàng tử lai (Quyển 6)/Chương 30 ( Hết ).txt\n",
            "Done /content/drive/MyDrive/FPT/DPL391m/data/processed/Harry Potter và Hoàng tử lai (Quyển 6)/Chương 27.txt\n",
            "Done /content/drive/MyDrive/FPT/DPL391m/data/processed/Harry Potter và Hoàng tử lai (Quyển 6)/Chương 04.txt\n",
            "Done /content/drive/MyDrive/FPT/DPL391m/data/processed/Harry Potter và Hoàng tử lai (Quyển 6)/Chương 23.txt\n",
            "Done /content/drive/MyDrive/FPT/DPL391m/data/processed/Harry Potter và Hoàng tử lai (Quyển 6)/Chương 14.txt\n",
            "Done /content/drive/MyDrive/FPT/DPL391m/data/processed/Harry Potter và Hoàng tử lai (Quyển 6)/Chương 01.txt\n",
            "Done /content/drive/MyDrive/FPT/DPL391m/data/processed/Harry Potter và Hoàng tử lai (Quyển 6)/Chương 19.txt\n",
            "Done /content/drive/MyDrive/FPT/DPL391m/data/processed/Harry Potter và Hoàng tử lai (Quyển 6)/Chương 03.txt\n",
            "Done /content/drive/MyDrive/FPT/DPL391m/data/processed/Harry Potter và Hoàng tử lai (Quyển 6)/Chương 13.txt\n",
            "Done /content/drive/MyDrive/FPT/DPL391m/data/processed/Harry Potter và Hoàng tử lai (Quyển 6)/Chương 25.txt\n",
            "Done /content/drive/MyDrive/FPT/DPL391m/data/processed/Harry Potter và Hoàng tử lai (Quyển 6)/Chương 11.txt\n",
            "Done /content/drive/MyDrive/FPT/DPL391m/data/processed/Harry Potter và Hoàng tử lai (Quyển 6)/Chương 21.txt\n",
            "Done /content/drive/MyDrive/FPT/DPL391m/data/processed/Harry Potter và Hoàng tử lai (Quyển 6)/Chương 26.txt\n",
            "Done /content/drive/MyDrive/FPT/DPL391m/data/processed/Harry Potter và Hoàng tử lai (Quyển 6)/Chương 02.txt\n",
            "Done /content/drive/MyDrive/FPT/DPL391m/data/processed/Harry Potter và Hoàng tử lai (Quyển 6)/Chương 29.txt\n",
            "Done /content/drive/MyDrive/FPT/DPL391m/data/processed/Harry Potter và Hoàng tử lai (Quyển 6)/Chương 18.txt\n",
            "Done /content/drive/MyDrive/FPT/DPL391m/data/processed/Harry Potter và Hoàng tử lai (Quyển 6)/Chương 05.txt\n",
            "Done /content/drive/MyDrive/FPT/DPL391m/data/processed/Harry Potter và Hoàng tử lai (Quyển 6)/Chương 17.txt\n",
            "Done /content/drive/MyDrive/FPT/DPL391m/data/processed/Harry Potter và Hoàng tử lai (Quyển 6)/Chương 09.txt\n",
            "Done /content/drive/MyDrive/FPT/DPL391m/data/processed/Harry Potter và Hoàng tử lai (Quyển 6)/Chương 12.txt\n",
            "Done /content/drive/MyDrive/FPT/DPL391m/data/processed/Harry Potter và Hoàng tử lai (Quyển 6)/Chương 15.txt\n",
            "Done /content/drive/MyDrive/FPT/DPL391m/data/processed/Harry Potter và Hoàng tử lai (Quyển 6)/Chương 24.txt\n",
            "Done /content/drive/MyDrive/FPT/DPL391m/data/processed/Harry Potter và Hoàng tử lai (Quyển 6)/Chương 16.txt\n",
            "Done /content/drive/MyDrive/FPT/DPL391m/data/processed/Harry Potter và Hoàng tử lai (Quyển 6)/Chương 20.txt\n",
            "Done /content/drive/MyDrive/FPT/DPL391m/data/processed/Harry Potter và Hoàng tử lai (Quyển 6)/Chương 08.txt\n",
            "Done /content/drive/MyDrive/FPT/DPL391m/data/processed/Harry Potter và Hoàng tử lai (Quyển 6)/Chương 22.txt\n",
            "Done /content/drive/MyDrive/FPT/DPL391m/data/processed/Harry potter và Phòng chứa bí mật (Quyển 2)/Chương 14.txt\n",
            "Done /content/drive/MyDrive/FPT/DPL391m/data/processed/Harry potter và Phòng chứa bí mật (Quyển 2)/Chương 06.txt\n",
            "Done /content/drive/MyDrive/FPT/DPL391m/data/processed/Harry potter và Phòng chứa bí mật (Quyển 2)/Chương 11.txt\n",
            "Done /content/drive/MyDrive/FPT/DPL391m/data/processed/Harry potter và Phòng chứa bí mật (Quyển 2)/Chương 02.txt\n",
            "Done /content/drive/MyDrive/FPT/DPL391m/data/processed/Harry potter và Phòng chứa bí mật (Quyển 2)/Chương 04.txt\n",
            "Done /content/drive/MyDrive/FPT/DPL391m/data/processed/Harry potter và Phòng chứa bí mật (Quyển 2)/Chương 10.txt\n",
            "Done /content/drive/MyDrive/FPT/DPL391m/data/processed/Harry potter và Phòng chứa bí mật (Quyển 2)/Chương 05.txt\n",
            "Done /content/drive/MyDrive/FPT/DPL391m/data/processed/Harry potter và Phòng chứa bí mật (Quyển 2)/Chương 18 (End).txt\n",
            "Done /content/drive/MyDrive/FPT/DPL391m/data/processed/Harry potter và Phòng chứa bí mật (Quyển 2)/Chương 07.txt\n",
            "Done /content/drive/MyDrive/FPT/DPL391m/data/processed/Harry potter và Phòng chứa bí mật (Quyển 2)/Chương 15.txt\n",
            "Done /content/drive/MyDrive/FPT/DPL391m/data/processed/Harry potter và Phòng chứa bí mật (Quyển 2)/Chương 03.txt\n",
            "Done /content/drive/MyDrive/FPT/DPL391m/data/processed/Harry potter và Phòng chứa bí mật (Quyển 2)/Chương 17.txt\n",
            "Done /content/drive/MyDrive/FPT/DPL391m/data/processed/Harry potter và Phòng chứa bí mật (Quyển 2)/Chương 01.txt\n",
            "Done /content/drive/MyDrive/FPT/DPL391m/data/processed/Harry potter và Phòng chứa bí mật (Quyển 2)/Chương 16.txt\n",
            "Done /content/drive/MyDrive/FPT/DPL391m/data/processed/Harry potter và Phòng chứa bí mật (Quyển 2)/Chương 09.txt\n",
            "Done /content/drive/MyDrive/FPT/DPL391m/data/processed/Harry potter và Phòng chứa bí mật (Quyển 2)/Chương 12.txt\n",
            "Done /content/drive/MyDrive/FPT/DPL391m/data/processed/Harry potter và Phòng chứa bí mật (Quyển 2)/Chương 08.txt\n",
            "Done /content/drive/MyDrive/FPT/DPL391m/data/processed/Harry potter và Phòng chứa bí mật (Quyển 2)/Chương 13.txt\n",
            "Done /content/drive/MyDrive/FPT/DPL391m/data/processed/Giết Con Chim Nhại/Chương 04.txt\n",
            "Done /content/drive/MyDrive/FPT/DPL391m/data/processed/Giết Con Chim Nhại/Chương 14.txt\n",
            "Done /content/drive/MyDrive/FPT/DPL391m/data/processed/Giết Con Chim Nhại/Chương 30.txt\n",
            "Done /content/drive/MyDrive/FPT/DPL391m/data/processed/Giết Con Chim Nhại/Chương 27.txt\n",
            "Done /content/drive/MyDrive/FPT/DPL391m/data/processed/Giết Con Chim Nhại/Chương 26.txt\n",
            "Done /content/drive/MyDrive/FPT/DPL391m/data/processed/Giết Con Chim Nhại/Chương 17.txt\n",
            "Done /content/drive/MyDrive/FPT/DPL391m/data/processed/Giết Con Chim Nhại/Chương 23.txt\n",
            "Done /content/drive/MyDrive/FPT/DPL391m/data/processed/Giết Con Chim Nhại/Chương 19.txt\n",
            "Done /content/drive/MyDrive/FPT/DPL391m/data/processed/Giết Con Chim Nhại/Chương 25.txt\n",
            "Done /content/drive/MyDrive/FPT/DPL391m/data/processed/Giết Con Chim Nhại/Chương 22.txt\n",
            "Done /content/drive/MyDrive/FPT/DPL391m/data/processed/Giết Con Chim Nhại/Chương 12.txt\n",
            "Done /content/drive/MyDrive/FPT/DPL391m/data/processed/Giết Con Chim Nhại/Chương 07.txt\n",
            "Done /content/drive/MyDrive/FPT/DPL391m/data/processed/Giết Con Chim Nhại/Chương 03.txt\n",
            "Done /content/drive/MyDrive/FPT/DPL391m/data/processed/Giết Con Chim Nhại/Chương 02.txt\n",
            "Done /content/drive/MyDrive/FPT/DPL391m/data/processed/Giết Con Chim Nhại/Chương 08.txt\n",
            "Done /content/drive/MyDrive/FPT/DPL391m/data/processed/Giết Con Chim Nhại/Chương 29.txt\n",
            "Done /content/drive/MyDrive/FPT/DPL391m/data/processed/Giết Con Chim Nhại/Chương 13.txt\n",
            "Done /content/drive/MyDrive/FPT/DPL391m/data/processed/Giết Con Chim Nhại/Chương 06.txt\n",
            "Done /content/drive/MyDrive/FPT/DPL391m/data/processed/Giết Con Chim Nhại/Chương 09.txt\n",
            "Done /content/drive/MyDrive/FPT/DPL391m/data/processed/Giết Con Chim Nhại/Chương 16.txt\n",
            "Done /content/drive/MyDrive/FPT/DPL391m/data/processed/Giết Con Chim Nhại/Chương 15.txt\n",
            "Done /content/drive/MyDrive/FPT/DPL391m/data/processed/Giết Con Chim Nhại/Chương 11.txt\n",
            "Done /content/drive/MyDrive/FPT/DPL391m/data/processed/Giết Con Chim Nhại/Chương 31(END).txt\n",
            "Done /content/drive/MyDrive/FPT/DPL391m/data/processed/Giết Con Chim Nhại/Chương 20.txt\n",
            "Done /content/drive/MyDrive/FPT/DPL391m/data/processed/Giết Con Chim Nhại/Chương 05.txt\n",
            "Done /content/drive/MyDrive/FPT/DPL391m/data/processed/Giết Con Chim Nhại/Chương 10.txt\n",
            "Done /content/drive/MyDrive/FPT/DPL391m/data/processed/Giết Con Chim Nhại/Chương 24.txt\n",
            "Done /content/drive/MyDrive/FPT/DPL391m/data/processed/Giết Con Chim Nhại/Chương 01.txt\n",
            "Done /content/drive/MyDrive/FPT/DPL391m/data/processed/Giết Con Chim Nhại/Chương 28.txt\n",
            "Done /content/drive/MyDrive/FPT/DPL391m/data/processed/Giết Con Chim Nhại/Chương 21.txt\n",
            "Done /content/drive/MyDrive/FPT/DPL391m/data/processed/Giết Con Chim Nhại/Chương 18.txt\n",
            "Done /content/drive/MyDrive/FPT/DPL391m/data/processed/Cuốn Theo Chiều Gió/Chương 02.txt\n",
            "Done /content/drive/MyDrive/FPT/DPL391m/data/processed/Cuốn Theo Chiều Gió/Chương 19.txt\n",
            "Done /content/drive/MyDrive/FPT/DPL391m/data/processed/Cuốn Theo Chiều Gió/Chương 11.txt\n",
            "Done /content/drive/MyDrive/FPT/DPL391m/data/processed/Cuốn Theo Chiều Gió/Chương 06.txt\n",
            "Done /content/drive/MyDrive/FPT/DPL391m/data/processed/Cuốn Theo Chiều Gió/Chương 14.txt\n",
            "Done /content/drive/MyDrive/FPT/DPL391m/data/processed/Cuốn Theo Chiều Gió/Chương 20.txt\n",
            "Done /content/drive/MyDrive/FPT/DPL391m/data/processed/Cuốn Theo Chiều Gió/Chương 15.txt\n",
            "Done /content/drive/MyDrive/FPT/DPL391m/data/processed/Cuốn Theo Chiều Gió/Chương 05.txt\n",
            "Done /content/drive/MyDrive/FPT/DPL391m/data/processed/Cuốn Theo Chiều Gió/Chương 17.txt\n",
            "Done /content/drive/MyDrive/FPT/DPL391m/data/processed/Cuốn Theo Chiều Gió/Chương 08.txt\n",
            "Done /content/drive/MyDrive/FPT/DPL391m/data/processed/Cuốn Theo Chiều Gió/Chương 04.txt\n",
            "Done /content/drive/MyDrive/FPT/DPL391m/data/processed/Cuốn Theo Chiều Gió/Chương 10.txt\n",
            "Done /content/drive/MyDrive/FPT/DPL391m/data/processed/Cuốn Theo Chiều Gió/Chương 03.txt\n",
            "Done /content/drive/MyDrive/FPT/DPL391m/data/processed/Cuốn Theo Chiều Gió/Chương 07.txt\n",
            "Done /content/drive/MyDrive/FPT/DPL391m/data/processed/Cuốn Theo Chiều Gió/Chương 13.txt\n",
            "Done /content/drive/MyDrive/FPT/DPL391m/data/processed/Cuốn Theo Chiều Gió/Chương 12.txt\n",
            "Done /content/drive/MyDrive/FPT/DPL391m/data/processed/Cuốn Theo Chiều Gió/Chương 16.txt\n",
            "Done /content/drive/MyDrive/FPT/DPL391m/data/processed/Cuốn Theo Chiều Gió/Chương 01.txt\n",
            "Done /content/drive/MyDrive/FPT/DPL391m/data/processed/Cuốn Theo Chiều Gió/Chương 18.txt\n",
            "Done /content/drive/MyDrive/FPT/DPL391m/data/processed/Cuốn Theo Chiều Gió/Chương 09.txt\n",
            "Done /content/drive/MyDrive/FPT/DPL391m/data/processed/Harry Potter và Hòn đá Phù thủy (Quyển 1)/Chương 15.txt\n",
            "Done /content/drive/MyDrive/FPT/DPL391m/data/processed/Harry Potter và Hòn đá Phù thủy (Quyển 1)/Chương 07.txt\n",
            "Done /content/drive/MyDrive/FPT/DPL391m/data/processed/Harry Potter và Hòn đá Phù thủy (Quyển 1)/Chương 06.txt\n",
            "Done /content/drive/MyDrive/FPT/DPL391m/data/processed/Harry Potter và Hòn đá Phù thủy (Quyển 1)/Chương 09.txt\n",
            "Done /content/drive/MyDrive/FPT/DPL391m/data/processed/Harry Potter và Hòn đá Phù thủy (Quyển 1)/Chương 14.txt\n",
            "Done /content/drive/MyDrive/FPT/DPL391m/data/processed/Harry Potter và Hòn đá Phù thủy (Quyển 1)/Chương 11.txt\n",
            "Done /content/drive/MyDrive/FPT/DPL391m/data/processed/Harry Potter và Hòn đá Phù thủy (Quyển 1)/Chương 13.txt\n",
            "Done /content/drive/MyDrive/FPT/DPL391m/data/processed/Harry Potter và Hòn đá Phù thủy (Quyển 1)/Chương 04.txt\n",
            "Done /content/drive/MyDrive/FPT/DPL391m/data/processed/Harry Potter và Hòn đá Phù thủy (Quyển 1)/Chương 01.txt\n",
            "Done /content/drive/MyDrive/FPT/DPL391m/data/processed/Harry Potter và Hòn đá Phù thủy (Quyển 1)/Chương 02.txt\n",
            "Done /content/drive/MyDrive/FPT/DPL391m/data/processed/Harry Potter và Hòn đá Phù thủy (Quyển 1)/Chương 08.txt\n",
            "Done /content/drive/MyDrive/FPT/DPL391m/data/processed/Harry Potter và Hòn đá Phù thủy (Quyển 1)/Chương 17 (End).txt\n",
            "Done /content/drive/MyDrive/FPT/DPL391m/data/processed/Harry Potter và Hòn đá Phù thủy (Quyển 1)/Chương 12.txt\n",
            "Done /content/drive/MyDrive/FPT/DPL391m/data/processed/Harry Potter và Hòn đá Phù thủy (Quyển 1)/Chương 03.txt\n",
            "Done /content/drive/MyDrive/FPT/DPL391m/data/processed/Harry Potter và Hòn đá Phù thủy (Quyển 1)/Chương 16.txt\n",
            "Done /content/drive/MyDrive/FPT/DPL391m/data/processed/Harry Potter và Hòn đá Phù thủy (Quyển 1)/Chương 10.txt\n",
            "Done /content/drive/MyDrive/FPT/DPL391m/data/processed/Harry Potter và Hòn đá Phù thủy (Quyển 1)/Chương 05.txt\n",
            "Done /content/drive/MyDrive/FPT/DPL391m/data/processed/Harry Potter và Bảo bối Tử thần (Quyển 7)/Chương 21.txt\n",
            "Done /content/drive/MyDrive/FPT/DPL391m/data/processed/Harry Potter và Bảo bối Tử thần (Quyển 7)/Chương 07.txt\n",
            "Done /content/drive/MyDrive/FPT/DPL391m/data/processed/Harry Potter và Bảo bối Tử thần (Quyển 7)/Chương 08.txt\n",
            "Done /content/drive/MyDrive/FPT/DPL391m/data/processed/Harry Potter và Bảo bối Tử thần (Quyển 7)/Chương 02.txt\n",
            "Done /content/drive/MyDrive/FPT/DPL391m/data/processed/Harry Potter và Bảo bối Tử thần (Quyển 7)/Chương 18.txt\n",
            "Done /content/drive/MyDrive/FPT/DPL391m/data/processed/Harry Potter và Bảo bối Tử thần (Quyển 7)/Chương 03.txt\n",
            "Done /content/drive/MyDrive/FPT/DPL391m/data/processed/Harry Potter và Bảo bối Tử thần (Quyển 7)/Chương 35.txt\n",
            "Done /content/drive/MyDrive/FPT/DPL391m/data/processed/Harry Potter và Bảo bối Tử thần (Quyển 7)/Chương 04.txt\n",
            "Done /content/drive/MyDrive/FPT/DPL391m/data/processed/Harry Potter và Bảo bối Tử thần (Quyển 7)/Chương 11.txt\n",
            "Done /content/drive/MyDrive/FPT/DPL391m/data/processed/Harry Potter và Bảo bối Tử thần (Quyển 7)/Chương 16.txt\n",
            "Done /content/drive/MyDrive/FPT/DPL391m/data/processed/Harry Potter và Bảo bối Tử thần (Quyển 7)/Chương 17.txt\n",
            "Done /content/drive/MyDrive/FPT/DPL391m/data/processed/Harry Potter và Bảo bối Tử thần (Quyển 7)/Chương 33.txt\n",
            "Done /content/drive/MyDrive/FPT/DPL391m/data/processed/Harry Potter và Bảo bối Tử thần (Quyển 7)/Chương 34.txt\n",
            "Done /content/drive/MyDrive/FPT/DPL391m/data/processed/Harry Potter và Bảo bối Tử thần (Quyển 7)/Chương 22.txt\n",
            "Done /content/drive/MyDrive/FPT/DPL391m/data/processed/Harry Potter và Bảo bối Tử thần (Quyển 7)/Chương 28.txt\n",
            "Done /content/drive/MyDrive/FPT/DPL391m/data/processed/Harry Potter và Bảo bối Tử thần (Quyển 7)/Chương 27.txt\n",
            "Done /content/drive/MyDrive/FPT/DPL391m/data/processed/Harry Potter và Bảo bối Tử thần (Quyển 7)/Chương 26.txt\n",
            "Done /content/drive/MyDrive/FPT/DPL391m/data/processed/Harry Potter và Bảo bối Tử thần (Quyển 7)/Chương 19.txt\n",
            "Done /content/drive/MyDrive/FPT/DPL391m/data/processed/Harry Potter và Bảo bối Tử thần (Quyển 7)/Chương 23.txt\n",
            "Done /content/drive/MyDrive/FPT/DPL391m/data/processed/Harry Potter và Bảo bối Tử thần (Quyển 7)/Chương 09.txt\n",
            "Done /content/drive/MyDrive/FPT/DPL391m/data/processed/Harry Potter và Bảo bối Tử thần (Quyển 7)/Chương 10.txt\n",
            "Done /content/drive/MyDrive/FPT/DPL391m/data/processed/Harry Potter và Bảo bối Tử thần (Quyển 7)/Chương 24.txt\n",
            "Done /content/drive/MyDrive/FPT/DPL391m/data/processed/Harry Potter và Bảo bối Tử thần (Quyển 7)/Chương 15.txt\n",
            "Done /content/drive/MyDrive/FPT/DPL391m/data/processed/Harry Potter và Bảo bối Tử thần (Quyển 7)/Chương 14.txt\n",
            "Done /content/drive/MyDrive/FPT/DPL391m/data/processed/Harry Potter và Bảo bối Tử thần (Quyển 7)/Chương 12.txt\n",
            "Done /content/drive/MyDrive/FPT/DPL391m/data/processed/Harry Potter và Bảo bối Tử thần (Quyển 7)/Chương 05.txt\n",
            "Done /content/drive/MyDrive/FPT/DPL391m/data/processed/Harry Potter và Bảo bối Tử thần (Quyển 7)/Chương 25.txt\n",
            "Done /content/drive/MyDrive/FPT/DPL391m/data/processed/Harry Potter và Bảo bối Tử thần (Quyển 7)/Chương 36.txt\n",
            "Done /content/drive/MyDrive/FPT/DPL391m/data/processed/Harry Potter và Bảo bối Tử thần (Quyển 7)/Chương 30.txt\n",
            "Done /content/drive/MyDrive/FPT/DPL391m/data/processed/Harry Potter và Bảo bối Tử thần (Quyển 7)/Chương 32.txt\n",
            "Done /content/drive/MyDrive/FPT/DPL391m/data/processed/Harry Potter và Bảo bối Tử thần (Quyển 7)/Chương 13.txt\n",
            "Done /content/drive/MyDrive/FPT/DPL391m/data/processed/Harry Potter và Bảo bối Tử thần (Quyển 7)/Chương 06.txt\n",
            "Done /content/drive/MyDrive/FPT/DPL391m/data/processed/Harry Potter và Bảo bối Tử thần (Quyển 7)/Chương 01.txt\n",
            "Done /content/drive/MyDrive/FPT/DPL391m/data/processed/Harry Potter và Bảo bối Tử thần (Quyển 7)/Chương 31.txt\n",
            "Done /content/drive/MyDrive/FPT/DPL391m/data/processed/1984 (Nineteen Eighty-Four)/Chương 8.txt\n",
            "Attempt 1 failed: ValueError: Invalid operation: The `response.text` quick accessor requires the response to contain a valid `Part`, but none were returned. Please check the `candidate.safety_ratings` to determine if the response was blocked.\n",
            "Done /content/drive/MyDrive/FPT/DPL391m/data/processed/1984 (Nineteen Eighty-Four)/Chương 6.txt\n",
            "Done /content/drive/MyDrive/FPT/DPL391m/data/processed/1984 (Nineteen Eighty-Four)/Chương 13.txt\n",
            "Done /content/drive/MyDrive/FPT/DPL391m/data/processed/1984 (Nineteen Eighty-Four)/Chương 2.txt\n",
            "Attempt 1 failed: ValueError: Invalid operation: The `response.text` quick accessor requires the response to contain a valid `Part`, but none were returned. Please check the `candidate.safety_ratings` to determine if the response was blocked.\n",
            "Done /content/drive/MyDrive/FPT/DPL391m/data/processed/1984 (Nineteen Eighty-Four)/Chương 5.txt\n",
            "Done /content/drive/MyDrive/FPT/DPL391m/data/processed/1984 (Nineteen Eighty-Four)/Chương 19.txt\n",
            "Done /content/drive/MyDrive/FPT/DPL391m/data/processed/1984 (Nineteen Eighty-Four)/Chương 17.txt\n",
            "Done /content/drive/MyDrive/FPT/DPL391m/data/processed/1984 (Nineteen Eighty-Four)/Chương 4.txt\n",
            "Done /content/drive/MyDrive/FPT/DPL391m/data/processed/1984 (Nineteen Eighty-Four)/Chương 12.txt\n",
            "Done /content/drive/MyDrive/FPT/DPL391m/data/processed/1984 (Nineteen Eighty-Four)/Chương 3.txt\n",
            "Done /content/drive/MyDrive/FPT/DPL391m/data/processed/1984 (Nineteen Eighty-Four)/Chương 11.txt\n",
            "Done /content/drive/MyDrive/FPT/DPL391m/data/processed/1984 (Nineteen Eighty-Four)/Chương 18.txt\n",
            "Done /content/drive/MyDrive/FPT/DPL391m/data/processed/1984 (Nineteen Eighty-Four)/Chương 10.txt\n",
            "Attempt 1 failed: ValueError: Invalid operation: The `response.text` quick accessor requires the response to contain a valid `Part`, but none were returned. Please check the `candidate.safety_ratings` to determine if the response was blocked.\n",
            "Done /content/drive/MyDrive/FPT/DPL391m/data/processed/1984 (Nineteen Eighty-Four)/Chương 9.txt\n",
            "Done /content/drive/MyDrive/FPT/DPL391m/data/processed/1984 (Nineteen Eighty-Four)/Chương 14.txt\n",
            "Done /content/drive/MyDrive/FPT/DPL391m/data/processed/1984 (Nineteen Eighty-Four)/Chương 1.txt\n",
            "Done /content/drive/MyDrive/FPT/DPL391m/data/processed/1984 (Nineteen Eighty-Four)/Chương 7.txt\n",
            "Done /content/drive/MyDrive/FPT/DPL391m/data/processed/1984 (Nineteen Eighty-Four)/Chương 15.txt\n",
            "Done /content/drive/MyDrive/FPT/DPL391m/data/processed/1984 (Nineteen Eighty-Four)/Chương 16.txt\n",
            "Attempt 1 failed: ValueError: Invalid operation: The `response.text` quick accessor requires the response to contain a valid `Part`, but none were returned. Please check the `candidate.safety_ratings` to determine if the response was blocked.\n",
            "Done /content/drive/MyDrive/FPT/DPL391m/data/processed/Bắt Trẻ Đồng Xanh/Chương 13.txt\n",
            "Done /content/drive/MyDrive/FPT/DPL391m/data/processed/Bắt Trẻ Đồng Xanh/Chương 1.txt\n",
            "Done /content/drive/MyDrive/FPT/DPL391m/data/processed/Bắt Trẻ Đồng Xanh/Chương 23.txt\n",
            "Done /content/drive/MyDrive/FPT/DPL391m/data/processed/Bắt Trẻ Đồng Xanh/Chương 8.txt\n",
            "Done /content/drive/MyDrive/FPT/DPL391m/data/processed/Bắt Trẻ Đồng Xanh/Chương 25.txt\n",
            "Done /content/drive/MyDrive/FPT/DPL391m/data/processed/Bắt Trẻ Đồng Xanh/Chương 2.txt\n",
            "Done /content/drive/MyDrive/FPT/DPL391m/data/processed/Bắt Trẻ Đồng Xanh/Chương 4.txt\n",
            "Done /content/drive/MyDrive/FPT/DPL391m/data/processed/Bắt Trẻ Đồng Xanh/Chương 5.txt\n",
            "Done /content/drive/MyDrive/FPT/DPL391m/data/processed/Bắt Trẻ Đồng Xanh/Chương 21.txt\n",
            "Done /content/drive/MyDrive/FPT/DPL391m/data/processed/Bắt Trẻ Đồng Xanh/Chương 20.txt\n",
            "Done /content/drive/MyDrive/FPT/DPL391m/data/processed/Bắt Trẻ Đồng Xanh/Chương 10.txt\n",
            "Done /content/drive/MyDrive/FPT/DPL391m/data/processed/Bắt Trẻ Đồng Xanh/Chương 18.txt\n",
            "Done /content/drive/MyDrive/FPT/DPL391m/data/processed/Bắt Trẻ Đồng Xanh/Chương 11.txt\n",
            "Attempt 1 failed: ValueError: Invalid operation: The `response.text` quick accessor requires the response to contain a valid `Part`, but none were returned. Please check the `candidate.safety_ratings` to determine if the response was blocked.\n",
            "Done /content/drive/MyDrive/FPT/DPL391m/data/processed/Bắt Trẻ Đồng Xanh/Chương 6.txt\n",
            "Done /content/drive/MyDrive/FPT/DPL391m/data/processed/Bắt Trẻ Đồng Xanh/Chương 17.txt\n",
            "Done /content/drive/MyDrive/FPT/DPL391m/data/processed/Bắt Trẻ Đồng Xanh/Chương 19.txt\n",
            "Done /content/drive/MyDrive/FPT/DPL391m/data/processed/Bắt Trẻ Đồng Xanh/Chương 9.txt\n",
            "Done /content/drive/MyDrive/FPT/DPL391m/data/processed/Bắt Trẻ Đồng Xanh/Chương 16.txt\n",
            "Done /content/drive/MyDrive/FPT/DPL391m/data/processed/Bắt Trẻ Đồng Xanh/Chương 7.txt\n",
            "Done /content/drive/MyDrive/FPT/DPL391m/data/processed/Bắt Trẻ Đồng Xanh/Chương 24.txt\n",
            "Done /content/drive/MyDrive/FPT/DPL391m/data/processed/Bắt Trẻ Đồng Xanh/Chương 22.txt\n",
            "Done /content/drive/MyDrive/FPT/DPL391m/data/processed/Bắt Trẻ Đồng Xanh/Chương 14.txt\n",
            "Done /content/drive/MyDrive/FPT/DPL391m/data/processed/Bắt Trẻ Đồng Xanh/Chương 3.txt\n",
            "Done /content/drive/MyDrive/FPT/DPL391m/data/processed/Bắt Trẻ Đồng Xanh/Chương 15.txt\n",
            "Done /content/drive/MyDrive/FPT/DPL391m/data/processed/Bắt Trẻ Đồng Xanh/Chương 26.txt\n",
            "Done /content/drive/MyDrive/FPT/DPL391m/data/processed/Bắt Trẻ Đồng Xanh/Chương 12.txt\n"
          ]
        }
      ]
    },
    {
      "cell_type": "markdown",
      "metadata": {
        "id": "jU8juHCxoUKG"
      },
      "source": [
        "Similarly, the chat history contains a list of `genai.protos.Content` objects, which you can pass directly to the `embed_content` function:"
      ]
    }
  ],
  "metadata": {
    "colab": {
      "provenance": [],
      "gpuType": "T4"
    },
    "google": {
      "image_path": "/static/site-assets/images/docs/logo-python.svg",
      "keywords": [
        "examples",
        "gemini",
        "beginner",
        "googleai",
        "quickstart",
        "python",
        "text",
        "chat",
        "vision",
        "embed"
      ]
    },
    "kernelspec": {
      "display_name": "Python 3",
      "name": "python3"
    },
    "accelerator": "GPU"
  },
  "nbformat": 4,
  "nbformat_minor": 0
}